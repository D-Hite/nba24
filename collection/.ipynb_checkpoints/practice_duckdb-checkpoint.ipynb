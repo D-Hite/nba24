{
 "cells": [
  {
   "cell_type": "code",
   "execution_count": 1,
   "id": "88a7f7e4",
   "metadata": {},
   "outputs": [],
   "source": [
    "import pandas as pd\n",
    "import glob\n",
    "import time\n",
    "import duckdb"
   ]
  },
  {
   "cell_type": "code",
   "execution_count": 2,
   "id": "bfbb0b34",
   "metadata": {},
   "outputs": [],
   "source": [
    "conn = duckdb.connect(':memory:')"
   ]
  },
  {
   "cell_type": "code",
   "execution_count": 3,
   "id": "3a848398",
   "metadata": {},
   "outputs": [],
   "source": [
    "csv_files = glob.glob('DATA/raw/teams/scoring/*.csv')"
   ]
  },
  {
   "cell_type": "code",
   "execution_count": 4,
   "id": "f42f2b3e",
   "metadata": {},
   "outputs": [
    {
     "data": {
      "text/plain": [
       "['DATA/raw/teams/scoring\\\\scoring2009-10.csv',\n",
       " 'DATA/raw/teams/scoring\\\\scoring2010-11.csv',\n",
       " 'DATA/raw/teams/scoring\\\\scoring2011-12.csv',\n",
       " 'DATA/raw/teams/scoring\\\\scoring2012-13.csv',\n",
       " 'DATA/raw/teams/scoring\\\\scoring2013-14.csv',\n",
       " 'DATA/raw/teams/scoring\\\\scoring2014-15.csv',\n",
       " 'DATA/raw/teams/scoring\\\\scoring2015-16.csv',\n",
       " 'DATA/raw/teams/scoring\\\\scoring2016-17.csv',\n",
       " 'DATA/raw/teams/scoring\\\\scoring2017-18.csv',\n",
       " 'DATA/raw/teams/scoring\\\\scoring2018-19.csv',\n",
       " 'DATA/raw/teams/scoring\\\\scoring2019-20.csv',\n",
       " 'DATA/raw/teams/scoring\\\\scoring2020-21.csv',\n",
       " 'DATA/raw/teams/scoring\\\\scoring2021-22.csv',\n",
       " 'DATA/raw/teams/scoring\\\\scoring2022-23.csv',\n",
       " 'DATA/raw/teams/scoring\\\\scoring2023-24.csv']"
      ]
     },
     "execution_count": 4,
     "metadata": {},
     "output_type": "execute_result"
    }
   ],
   "source": [
    "csv_files[1:]"
   ]
  },
  {
   "cell_type": "code",
   "execution_count": 5,
   "id": "0d165d4d",
   "metadata": {},
   "outputs": [
    {
     "data": {
      "text/html": [
       "<div>\n",
       "<style scoped>\n",
       "    .dataframe tbody tr th:only-of-type {\n",
       "        vertical-align: middle;\n",
       "    }\n",
       "\n",
       "    .dataframe tbody tr th {\n",
       "        vertical-align: top;\n",
       "    }\n",
       "\n",
       "    .dataframe thead th {\n",
       "        text-align: right;\n",
       "    }\n",
       "</style>\n",
       "<table border=\"1\" class=\"dataframe\">\n",
       "  <thead>\n",
       "    <tr style=\"text-align: right;\">\n",
       "      <th></th>\n",
       "      <th>Count</th>\n",
       "    </tr>\n",
       "  </thead>\n",
       "  <tbody>\n",
       "    <tr>\n",
       "      <th>0</th>\n",
       "      <td>2630</td>\n",
       "    </tr>\n",
       "  </tbody>\n",
       "</table>\n",
       "</div>"
      ],
      "text/plain": [
       "   Count\n",
       "0   2630"
      ]
     },
     "execution_count": 5,
     "metadata": {},
     "output_type": "execute_result"
    }
   ],
   "source": [
    "conn.execute(\"\"\"\n",
    "    CREATE OR REPLACE TABLE scoring as\n",
    "    SELECT *\n",
    "    FROM read_csv_auto('DATA/raw/teams/scoring\\\\scoring2008-09.csv')\n",
    "\"\"\").df()\n"
   ]
  },
  {
   "cell_type": "code",
   "execution_count": 6,
   "id": "4a8c885d",
   "metadata": {},
   "outputs": [],
   "source": [
    "for file in csv_files[1:]:\n",
    "    conn.execute(f\"\"\"\n",
    "        INSERT INTO scoring\n",
    "        SELECT * FROM read_csv_auto('{file}')\n",
    "        \"\"\")\n"
   ]
  },
  {
   "cell_type": "code",
   "execution_count": 7,
   "id": "a3328493",
   "metadata": {},
   "outputs": [
    {
     "name": "stdout",
     "output_type": "stream",
     "text": [
      "[(40910,)]\n"
     ]
    }
   ],
   "source": [
    "result = conn.execute(\"SELECT count(*) FROM scoring\").fetchall()\n",
    "print(result)"
   ]
  },
  {
   "cell_type": "code",
   "execution_count": null,
   "id": "eca98e0f",
   "metadata": {},
   "outputs": [],
   "source": [
    "result = conn.execute(\"SELECT * FROM scoring\").fetchall()\n",
    "print(result)"
   ]
  },
  {
   "cell_type": "code",
   "execution_count": null,
   "id": "0d35c580",
   "metadata": {},
   "outputs": [],
   "source": [
    "result = conn.execute(\"SELECT count(*) FROM scoring\").fetchall()\n",
    "print(result)"
   ]
  },
  {
   "cell_type": "code",
   "execution_count": null,
   "id": "49472c3f",
   "metadata": {},
   "outputs": [],
   "source": [
    "conn.execute(\"\"\"\n",
    "    CREATE OR REPLACE TABLE scoring as\n",
    "    SELECT *\n",
    "    FROM read_csv_auto('DATA/raw/teams/scoring\\\\*.csv')\n",
    "\"\"\").df()"
   ]
  },
  {
   "cell_type": "code",
   "execution_count": null,
   "id": "11a37d58",
   "metadata": {},
   "outputs": [],
   "source": [
    "csv_files = glob.glob('DATA/raw/teams/scoring/*.csv')"
   ]
  },
  {
   "cell_type": "code",
   "execution_count": null,
   "id": "44609108",
   "metadata": {},
   "outputs": [],
   "source": [
    "csv_files"
   ]
  },
  {
   "cell_type": "code",
   "execution_count": null,
   "id": "6bed4873",
   "metadata": {},
   "outputs": [],
   "source": [
    "for file in csv_files:\n",
    "    tablename = file.split('\\\\')[-1].replace('.csv', '').replace('-','')\n",
    "    print(f\"c_file = {file}\\ntablename = {tablename}\")\n",
    "    conn.execute(f\"\"\"\n",
    "    CREATE TABLE IF NOT EXISTS {tablename} AS\n",
    "    SELECT * FROM read_csv_auto('{file}')\n",
    "    \"\"\")\n"
   ]
  },
  {
   "cell_type": "code",
   "execution_count": null,
   "id": "75ddc694",
   "metadata": {},
   "outputs": [],
   "source": [
    "conn.execute(f\"\"\"\n",
    "    INSERT INTO scoring\n",
    "    SELECT * FROM read_csv_auto('DATA/raw/teams/scoring\\scoring2014-15.csv')\n",
    "    \"\"\")\n"
   ]
  },
  {
   "cell_type": "code",
   "execution_count": null,
   "id": "4ccd2126",
   "metadata": {},
   "outputs": [],
   "source": [
    "for file in csv_files:\n",
    "    new = file.split('\\\\')[-1].replace('.csv', '')\n",
    "    print(f\"c_file = {new}\")"
   ]
  },
  {
   "cell_type": "code",
   "execution_count": null,
   "id": "a9c8ca7e",
   "metadata": {},
   "outputs": [],
   "source": []
  }
 ],
 "metadata": {
  "kernelspec": {
   "display_name": "Python 3 (ipykernel)",
   "language": "python",
   "name": "python3"
  },
  "language_info": {
   "codemirror_mode": {
    "name": "ipython",
    "version": 3
   },
   "file_extension": ".py",
   "mimetype": "text/x-python",
   "name": "python",
   "nbconvert_exporter": "python",
   "pygments_lexer": "ipython3",
   "version": "3.9.13"
  }
 },
 "nbformat": 4,
 "nbformat_minor": 5
}
