{
 "cells": [
  {
   "cell_type": "code",
   "execution_count": 1,
   "id": "88a7f7e4",
   "metadata": {},
   "outputs": [],
   "source": [
    "import pandas as pd\n",
    "import glob\n",
    "import time\n",
    "import duckdb"
   ]
  },
  {
   "cell_type": "code",
   "execution_count": 2,
   "id": "bfbb0b34",
   "metadata": {},
   "outputs": [],
   "source": [
    "conn = duckdb.connect(':memory:')"
   ]
  },
  {
   "cell_type": "code",
   "execution_count": 4,
   "id": "85e5eab4",
   "metadata": {},
   "outputs": [],
   "source": [
    "current_tables = ['advanced', 'fourfactors', 'misc', 'scoring']\n",
    "\n",
    "for tp in ['teams', 'players']:\n",
    "    for kind in current_tables:\n",
    "        csv_files = glob.glob(f'DATA/raw/teams/{kind}/*.csv')\n",
    "\n",
    "        conn.execute(f\"\"\"\n",
    "            CREATE OR REPLACE TABLE {tp}_{kind} as\n",
    "            SELECT *\n",
    "            FROM read_csv_auto('{csv_files[0]}')\n",
    "        \"\"\").df()\n",
    "\n",
    "\n",
    "        for file in csv_files[1:]:\n",
    "            conn.execute(f\"\"\"\n",
    "                INSERT INTO {tp}_{kind}\n",
    "                SELECT * FROM read_csv_auto('{file}')\n",
    "                \"\"\")"
   ]
  },
  {
   "cell_type": "code",
   "execution_count": 5,
   "id": "2159d1db",
   "metadata": {},
   "outputs": [
    {
     "name": "stdout",
     "output_type": "stream",
     "text": [
      "[('players_advanced',), ('players_fourfactors',), ('players_misc',), ('players_scoring',), ('teams_advanced',), ('teams_fourfactors',), ('teams_misc',), ('teams_scoring',)]\n"
     ]
    }
   ],
   "source": [
    "result = conn.execute(\"show tables\").fetchall()\n",
    "print(result)"
   ]
  },
  {
   "cell_type": "code",
   "execution_count": null,
   "id": "560a4be2",
   "metadata": {},
   "outputs": [],
   "source": []
  },
  {
   "cell_type": "code",
   "execution_count": null,
   "id": "0b400844",
   "metadata": {},
   "outputs": [],
   "source": []
  },
  {
   "cell_type": "code",
   "execution_count": null,
   "id": "44f6618e",
   "metadata": {},
   "outputs": [],
   "source": []
  },
  {
   "cell_type": "code",
   "execution_count": null,
   "id": "f9f96adf",
   "metadata": {},
   "outputs": [],
   "source": [
    "csv_files = glob.glob('DATA/raw/teams/scoring/*.csv')"
   ]
  },
  {
   "cell_type": "code",
   "execution_count": null,
   "id": "84427515",
   "metadata": {
    "scrolled": true
   },
   "outputs": [],
   "source": [
    "csv_files[1:]"
   ]
  },
  {
   "cell_type": "code",
   "execution_count": null,
   "id": "0d165d4d",
   "metadata": {},
   "outputs": [],
   "source": [
    "conn.execute(\"\"\"\n",
    "    CREATE OR REPLACE TABLE scoring as\n",
    "    SELECT *\n",
    "    FROM read_csv_auto('DATA/raw/teams/scoring\\\\scoring2008-09.csv')\n",
    "\"\"\").df()\n"
   ]
  },
  {
   "cell_type": "code",
   "execution_count": null,
   "id": "1f0e6719",
   "metadata": {},
   "outputs": [],
   "source": [
    "for file in csv_files[1:]:\n",
    "    conn.execute(f\"\"\"\n",
    "        INSERT INTO scoring\n",
    "        SELECT * FROM read_csv_auto('{file}')\n",
    "        \"\"\")\n"
   ]
  },
  {
   "cell_type": "code",
   "execution_count": null,
   "id": "00d88df9",
   "metadata": {},
   "outputs": [],
   "source": [
    "result = conn.execute(\"SELECT count(*) FROM scoring\").fetchall()\n",
    "print(result)"
   ]
  },
  {
   "cell_type": "code",
   "execution_count": null,
   "id": "eca98e0f",
   "metadata": {},
   "outputs": [],
   "source": [
    "result = conn.execute(\"SELECT * FROM scoring\").fetchall()\n",
    "print(result)"
   ]
  },
  {
   "cell_type": "code",
   "execution_count": null,
   "id": "a09b8835",
   "metadata": {},
   "outputs": [],
   "source": [
    "result = conn.execute(\"SELECT count(*) FROM scoring\").fetchall()\n",
    "print(result)"
   ]
  },
  {
   "cell_type": "code",
   "execution_count": null,
   "id": "49472c3f",
   "metadata": {},
   "outputs": [],
   "source": [
    "conn.execute(\"\"\"\n",
    "    CREATE OR REPLACE TABLE scoring as\n",
    "    SELECT *\n",
    "    FROM read_csv_auto('DATA/raw/teams/scoring\\\\*.csv')\n",
    "\"\"\").df()"
   ]
  },
  {
   "cell_type": "code",
   "execution_count": null,
   "id": "11a37d58",
   "metadata": {},
   "outputs": [],
   "source": [
    "csv_files = glob.glob('DATA/raw/teams/scoring/*.csv')"
   ]
  },
  {
   "cell_type": "code",
   "execution_count": null,
   "id": "44609108",
   "metadata": {},
   "outputs": [],
   "source": [
    "csv_files"
   ]
  },
  {
   "cell_type": "code",
   "execution_count": null,
   "id": "6bed4873",
   "metadata": {},
   "outputs": [],
   "source": [
    "for file in csv_files:\n",
    "    tablename = file.split('\\\\')[-1].replace('.csv', '').replace('-','')\n",
    "    print(f\"c_file = {file}\\ntablename = {tablename}\")\n",
    "    conn.execute(f\"\"\"\n",
    "    CREATE TABLE IF NOT EXISTS {tablename} AS\n",
    "    SELECT * FROM read_csv_auto('{file}')\n",
    "    \"\"\")\n"
   ]
  },
  {
   "cell_type": "code",
   "execution_count": null,
   "id": "a243c720",
   "metadata": {},
   "outputs": [],
   "source": [
    "conn.execute(f\"\"\"\n",
    "    INSERT INTO scoring\n",
    "    SELECT * FROM read_csv_auto('DATA/raw/teams/scoring\\scoring2014-15.csv')\n",
    "    \"\"\")\n"
   ]
  },
  {
   "cell_type": "code",
   "execution_count": null,
   "id": "4ccd2126",
   "metadata": {},
   "outputs": [],
   "source": [
    "for file in csv_files:\n",
    "    new = file.split('\\\\')[-1].replace('.csv', '')\n",
    "    print(f\"c_file = {new}\")"
   ]
  },
  {
   "cell_type": "code",
   "execution_count": null,
   "id": "9cec09c4",
   "metadata": {},
   "outputs": [],
   "source": []
  }
 ],
 "metadata": {
  "kernelspec": {
   "display_name": "Python 3 (ipykernel)",
   "language": "python",
   "name": "python3"
  },
  "language_info": {
   "codemirror_mode": {
    "name": "ipython",
    "version": 3
   },
   "file_extension": ".py",
   "mimetype": "text/x-python",
   "name": "python",
   "nbconvert_exporter": "python",
   "pygments_lexer": "ipython3",
   "version": "3.9.13"
  }
 },
 "nbformat": 4,
 "nbformat_minor": 5
}
