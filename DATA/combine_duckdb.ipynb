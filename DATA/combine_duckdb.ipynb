{
 "cells": [
  {
   "cell_type": "code",
   "execution_count": null,
   "id": "88a7f7e4",
   "metadata": {},
   "outputs": [],
   "source": [
    "import pandas as pd\n",
    "import glob\n",
    "import time\n",
    "import duckdb\n"
   ]
  },
  {
   "cell_type": "code",
   "execution_count": null,
   "id": "bfbb0b34",
   "metadata": {},
   "outputs": [],
   "source": [
    "conn = duckdb.connect()"
   ]
  },
  {
   "cell_type": "code",
   "execution_count": null,
   "id": "0d165d4d",
   "metadata": {},
   "outputs": [],
   "source": [
    "team_scoring = conn.execute(\"\"\"\n",
    "    SELECT *\n",
    "    FROM 'DATA/raw/teams/scoring/*.csv'\n",
    "\"\"\").df()\n",
    "conn.register(\"df_view\", df)\n",
    "conn.execute(\"DESCRIBE df_view\").df() # doesn't work if you don't register df as a virtual tabl"
   ]
  },
  {
   "cell_type": "code",
   "execution_count": null,
   "id": "11a37d58",
   "metadata": {},
   "outputs": [],
   "source": []
  }
 ],
 "metadata": {
  "kernelspec": {
   "display_name": "Python 3 (ipykernel)",
   "language": "python",
   "name": "python3"
  },
  "language_info": {
   "codemirror_mode": {
    "name": "ipython",
    "version": 3
   },
   "file_extension": ".py",
   "mimetype": "text/x-python",
   "name": "python",
   "nbconvert_exporter": "python",
   "pygments_lexer": "ipython3",
   "version": "3.9.13"
  }
 },
 "nbformat": 4,
 "nbformat_minor": 5
}
